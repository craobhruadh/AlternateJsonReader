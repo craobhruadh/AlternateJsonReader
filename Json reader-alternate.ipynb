{
 "cells": [
  {
   "cell_type": "code",
   "execution_count": 76,
   "metadata": {},
   "outputs": [],
   "source": [
    "import json\n",
    "#import ast\n",
    "import re\n",
    "import numpy as np\n",
    "\n",
    "import time\n",
    "import pandas as pd\n",
    "import numpy as np\n",
    "#from bs4 import BeautifulSoup\n",
    "#import os"
   ]
  },
  {
   "cell_type": "code",
   "execution_count": 3,
   "metadata": {},
   "outputs": [],
   "source": [
    "#filename = 'MeDOAS_Spec_20190621_103618.json'\n",
    "#filename = 'MeDOAS_Spec_20190710_001316.json'\n",
    "path = '.\\\\plcData\\\\'"
   ]
  },
  {
   "cell_type": "code",
   "execution_count": 4,
   "metadata": {},
   "outputs": [],
   "source": [
    "# with open(path+filename, 'r') as f:\n",
    "#     s = f.read()\n",
    "    #d = json.load(f)"
   ]
  },
  {
   "cell_type": "markdown",
   "metadata": {},
   "source": [
    "# Fallback: parse data from json string\n"
   ]
  },
  {
   "cell_type": "code",
   "execution_count": 125,
   "metadata": {},
   "outputs": [],
   "source": [
    "# Function declarations\n",
    "\n",
    "\n",
    "def ReadLinesFromFile(s): \n",
    "    bracket_depth= 0\n",
    "    values = []\n",
    "    newBracket = -1\n",
    "    substring = ''\n",
    "\n",
    "    read_subsequent_lines = False\n",
    "\n",
    "    new_values =''\n",
    "\n",
    "    for i in s.split('\\n'):\n",
    "        if '{' in i:\n",
    "            bracket_depth+=i.count('{')\n",
    "        \n",
    "        if '}' in i:\n",
    "            bracket_depth-=i.count('}')\n",
    "            read_subsequent_lines = False\n",
    "        if ':' in i:\n",
    "            \n",
    "            if (\"PC time\" in i)|(\"PLC time\" in i):\n",
    "                values.append(i.replace('\"',''))\n",
    "            \n",
    "            if ('Temp' in i)|('Temperature' in i):\n",
    "                read_subsequent_lines = True\n",
    "                newBracket = bracket_depth\n",
    "\n",
    "            if read_subsequent_lines & (bracket_depth == newBracket):\n",
    "                new_values = new_values + i\n",
    "            else:\n",
    "                if new_values != '':\n",
    "                    values.append(new_values.replace('{', '').replace('\"',''))\n",
    "                read_subsequent_lines = False\n",
    "                new_values =''\n",
    "                \n",
    "#         print(bracket_depth, ', ', i)\n",
    "    return values\n",
    "\n",
    "\n",
    "\n",
    "def ProcessValues(values):\n",
    "    most_recent_time = -1\n",
    "\n",
    "    df = pd.DataFrame(columns=['Time', 'Temperature', 'Original'])\n",
    "\n",
    "    for line in values:\n",
    "        tokens = line.split(':')\n",
    "        if 'time' in tokens[0]:\n",
    "            most_recent_time = line.replace(tokens[0]+':','').replace(',', '').replace('USA', '')\n",
    "        if ('Temp' in tokens[0])|('Temperature' in tokens[0]):\n",
    "            temp = tokens[-1].strip()\n",
    "            if temp.isnumeric():\n",
    "                numDecimals = int(tokens[2].split(',')[0])\n",
    "                temp = float(temp[0:numDecimals] + '.'+ temp[numDecimals:])\n",
    "                df = df.append({'Time': most_recent_time, 'Temperature': temp, 'Original': tokens[0]}, ignore_index=True)\n",
    "\n",
    "    return df\n"
   ]
  },
  {
   "cell_type": "code",
   "execution_count": 70,
   "metadata": {
    "scrolled": true
   },
   "outputs": [],
   "source": [
    "files = [x for x in os.listdir('plcData') if x.split('.')[-1] == 'json']\n",
    "\n"
   ]
  },
  {
   "cell_type": "code",
   "execution_count": 71,
   "metadata": {
    "scrolled": false
   },
   "outputs": [
    {
     "data": {
      "text/plain": [
       "{'MeDOAS', 'MeFTIR', 'SkyDOAS'}"
      ]
     },
     "execution_count": 71,
     "metadata": {},
     "output_type": "execute_result"
    }
   ],
   "source": [
    "file_types = set([x.split('_')[0] for x in files])\n",
    "file_types"
   ]
  },
  {
   "cell_type": "code",
   "execution_count": 130,
   "metadata": {
    "scrolled": true
   },
   "outputs": [
    {
     "name": "stdout",
     "output_type": "stream",
     "text": [
      "Finished MeDOAS\n",
      "1680.79745054245\n",
      "Finished MeFTIR\n",
      "2510.796069383621\n"
     ]
    },
    {
     "ename": "NameError",
     "evalue": "name 'df_SkyDOASR' is not defined",
     "output_type": "error",
     "traceback": [
      "\u001b[1;31m---------------------------------------------------------------------------\u001b[0m",
      "\u001b[1;31mNameError\u001b[0m                                 Traceback (most recent call last)",
      "\u001b[1;32m<ipython-input-130-73213b91485f>\u001b[0m in \u001b[0;36m<module>\u001b[1;34m\u001b[0m\n\u001b[0;32m     33\u001b[0m         \u001b[0mvalues\u001b[0m \u001b[1;33m=\u001b[0m \u001b[0mReadLinesFromFile\u001b[0m\u001b[1;33m(\u001b[0m\u001b[0ms\u001b[0m\u001b[1;33m)\u001b[0m\u001b[1;33m\u001b[0m\u001b[1;33m\u001b[0m\u001b[0m\n\u001b[0;32m     34\u001b[0m         \u001b[0mdf\u001b[0m \u001b[1;33m=\u001b[0m \u001b[0mProcessValues\u001b[0m\u001b[1;33m(\u001b[0m\u001b[0mvalues\u001b[0m\u001b[1;33m)\u001b[0m\u001b[1;33m\u001b[0m\u001b[1;33m\u001b[0m\u001b[0m\n\u001b[1;32m---> 35\u001b[1;33m         \u001b[0mdf_SkyDOAS\u001b[0m \u001b[1;33m=\u001b[0m \u001b[0mdf_SkyDOASR\u001b[0m\u001b[1;33m.\u001b[0m\u001b[0mappend\u001b[0m\u001b[1;33m(\u001b[0m\u001b[0mdf\u001b[0m\u001b[1;33m,\u001b[0m \u001b[0mignore_index\u001b[0m\u001b[1;33m=\u001b[0m\u001b[1;32mTrue\u001b[0m\u001b[1;33m)\u001b[0m\u001b[1;33m\u001b[0m\u001b[1;33m\u001b[0m\u001b[0m\n\u001b[0m\u001b[0;32m     36\u001b[0m \u001b[1;33m\u001b[0m\u001b[0m\n\u001b[0;32m     37\u001b[0m \u001b[0mprint\u001b[0m\u001b[1;33m(\u001b[0m\u001b[1;34m'Finished SkyDOAS'\u001b[0m\u001b[1;33m)\u001b[0m\u001b[1;33m\u001b[0m\u001b[1;33m\u001b[0m\u001b[0m\n",
      "\u001b[1;31mNameError\u001b[0m: name 'df_SkyDOASR' is not defined"
     ]
    }
   ],
   "source": [
    "t= time.time()\n",
    "\n",
    "files_short = [x for x in files if 'MeDOAS' == x.split('_')[0]]\n",
    "df_MeDoas = pd.DataFrame(columns=['Time', 'Temperature', 'Original'])\n",
    "for filename in files_short:\n",
    "    with open(path+filename, 'r') as f:\n",
    "        s = f.read()\n",
    "        values = ReadLinesFromFile(s)\n",
    "        df = ProcessValues(values)\n",
    "        df_MeDoas = df_MeDoas.append(df, ignore_index=True)\n",
    "\n",
    "print('Finished MeDOAS')        \n",
    "print(time.time()-t)\n",
    "df_MeDoas.to_csv('MeDOAS.csv')\n",
    "\n",
    "\n",
    "files_short = [x for x in files if 'MeFTIR' == x.split('_')[0]]\n",
    "df_MeFTIR = pd.DataFrame(columns=['Time', 'Temperature', 'Original'])\n",
    "for filename in files_short:\n",
    "    with open(path+filename, 'r') as f:\n",
    "        s = f.read()\n",
    "        values = ReadLinesFromFile(s)\n",
    "        df = ProcessValues(values)\n",
    "        df_MeFTIR = df_MeFTIR.append(df, ignore_index=True)\n",
    "\n",
    "print('Finished MeFTIR')        \n",
    "print(time.time()-t)\n",
    "df_MeFTIR.to_csv('MeFTIR.csv')\n",
    "\n",
    "        \n",
    "files_short = [x for x in files if 'SkyDOAS' == x.split('_')[0]]\n",
    "df_SkyDOAS = pd.DataFrame(columns=['Time', 'Temperature', 'Original'])\n",
    "for filename in files_short:\n",
    "    with open(path+filename, 'r') as f:\n",
    "        s = f.read()\n",
    "        values = ReadLinesFromFile(s)\n",
    "        df = ProcessValues(values)\n",
    "        df_SkyDOAS = df_SkyDOAS.append(df, ignore_index=True)\n",
    "        \n",
    "print('Finished SkyDOAS')                \n",
    "print(time.time()-t)\n",
    "df_SkyDOAS.to_csv('SkyDOAS.csv')\n"
   ]
  },
  {
   "cell_type": "code",
   "execution_count": null,
   "metadata": {},
   "outputs": [],
   "source": []
  },
  {
   "cell_type": "code",
   "execution_count": null,
   "metadata": {},
   "outputs": [],
   "source": []
  }
 ],
 "metadata": {
  "kernelspec": {
   "display_name": "Python 3",
   "language": "python",
   "name": "python3"
  },
  "language_info": {
   "codemirror_mode": {
    "name": "ipython",
    "version": 3
   },
   "file_extension": ".py",
   "mimetype": "text/x-python",
   "name": "python",
   "nbconvert_exporter": "python",
   "pygments_lexer": "ipython3",
   "version": "3.7.3"
  }
 },
 "nbformat": 4,
 "nbformat_minor": 2
}
